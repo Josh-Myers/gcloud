{
 "cells": [
  {
   "cell_type": "markdown",
   "metadata": {},
   "source": [
    "Inception v3\n",
    "\n",
    "This time:\n",
    "1. train top only for 3 epochs\n",
    "2. unfreeze some layers and train\n",
    "3. unfreeze all layers and train with small LR"
   ]
  },
  {
   "cell_type": "code",
   "execution_count": 51,
   "metadata": {},
   "outputs": [],
   "source": [
    "import numpy as np\n",
    "import pandas as pd\n",
    "import matplotlib.pyplot as plt\n",
    "import tensorflow as tf\n",
    "from tensorflow.keras import layers\n",
    "from tensorflow.keras import Model\n",
    "from tensorflow.keras.preprocessing.image import ImageDataGenerator\n",
    "from tensorflow.keras.applications import InceptionV3\n",
    "from sklearn.metrics import cohen_kappa_score\n",
    "from sklearn.metrics import confusion_matrix"
   ]
  },
  {
   "cell_type": "code",
   "execution_count": 2,
   "metadata": {},
   "outputs": [],
   "source": [
    "im_size = 512\n",
    "batch_size = 32\n",
    "seed = 666"
   ]
  },
  {
   "cell_type": "code",
   "execution_count": 11,
   "metadata": {},
   "outputs": [
    {
     "name": "stdout",
     "output_type": "stream",
     "text": [
      "Found 34016 images belonging to 5 classes.\n",
      "Found 3777 images belonging to 5 classes.\n"
     ]
    }
   ],
   "source": [
    "train_datagen = ImageDataGenerator(rescale=1/255.,\n",
    "                                   validation_split=0.1, \n",
    "                                   horizontal_flip=True,\n",
    "                                   vertical_flip=True, \n",
    "                                   rotation_range=360,\n",
    "                                   width_shift_range=0.2,\n",
    "                                   height_shift_range=0.2,\n",
    "                                   zoom_range=0.2, \n",
    "                                   shear_range=0.1,\n",
    "                                   )\n",
    "\n",
    "train_generator = train_datagen.flow_from_directory(directory=\"/home/jupyter/train_process\",\n",
    "                                                    batch_size=batch_size,\n",
    "                                                    class_mode=\"categorical\",\n",
    "                                                    target_size=(im_size, im_size),\n",
    "                                                    shuffle=True,\n",
    "                                                    seed=seed,\n",
    "                                                    subset='training'\n",
    "                                                    )\n",
    "\n",
    "dev_generator = train_datagen.flow_from_directory(directory=\"/home/jupyter/train_process\",\n",
    "                                                batch_size=batch_size,\n",
    "                                                class_mode=\"categorical\",\n",
    "                                                target_size=(im_size, im_size),\n",
    "                                                shuffle=True,\n",
    "                                                seed=seed,\n",
    "                                                subset='validation'\n",
    "                                                )"
   ]
  },
  {
   "cell_type": "code",
   "execution_count": 12,
   "metadata": {},
   "outputs": [],
   "source": [
    "num_train_steps = train_generator.n // train_generator.batch_size\n",
    "num_dev_steps = dev_generator.n // dev_generator.batch_size"
   ]
  },
  {
   "cell_type": "code",
   "execution_count": 14,
   "metadata": {},
   "outputs": [
    {
     "name": "stderr",
     "output_type": "stream",
     "text": [
      "W0827 08:59:57.241756 139857222027008 deprecation.py:323] From <ipython-input-8-5fb76967e779>:15: to_float (from tensorflow.python.ops.math_ops) is deprecated and will be removed in a future version.\n",
      "Instructions for updating:\n",
      "Use `tf.cast` instead.\n"
     ]
    }
   ],
   "source": [
    "# download new weights: https://github.com/fchollet/deep-learning-models/releases/tag/v0.5\n",
    "local_weights_file = '/home/jupyter/inception_v3_weights_tf_dim_ordering_tf_kernels_notop.h5'\n",
    "base_model = InceptionV3(input_shape=(512, 512, 3), \n",
    "                         weights=None, \n",
    "                         include_top=False)\n",
    "\n",
    "base_model.load_weights(local_weights_file)\n",
    "\n",
    "x = base_model.output\n",
    "x = tf.keras.layers.GlobalAveragePooling2D()(x)\n",
    "x = tf.keras.layers.Dropout(0.5)(x)\n",
    "predictions = tf.keras.layers.Dense(5, activation='softmax')(x)\n",
    "\n",
    "model = Model(inputs=base_model.input, outputs=predictions)\n",
    "model.compile(optimizer='rmsprop', loss='categorical_crossentropy', metrics=['acc'])"
   ]
  },
  {
   "cell_type": "code",
   "execution_count": 15,
   "metadata": {},
   "outputs": [
    {
     "name": "stdout",
     "output_type": "stream",
     "text": [
      "Epoch 1/20\n",
      "1063/1063 [==============================] - 2052s 2s/step - loss: 1.8892 - acc: 0.5149 - val_loss: 1.8880 - val_acc: 0.6012\n",
      "Epoch 2/20\n",
      "1063/1063 [==============================] - 2076s 2s/step - loss: 1.8195 - acc: 0.6290 - val_loss: 1.7926 - val_acc: 0.5299\n",
      "Epoch 3/20\n",
      "1063/1063 [==============================] - 2034s 2s/step - loss: 1.7142 - acc: 0.6041 - val_loss: 1.8731 - val_acc: 0.3530\n",
      "Epoch 4/20\n",
      "1063/1063 [==============================] - 2039s 2s/step - loss: 1.3556 - acc: 0.6315 - val_loss: 1.3917 - val_acc: 0.7256\n",
      "Epoch 5/20\n",
      "1063/1063 [==============================] - 2024s 2s/step - loss: 1.1431 - acc: 0.6727 - val_loss: 1.6271 - val_acc: 0.7180\n",
      "Epoch 6/20\n",
      "1063/1063 [==============================] - 2020s 2s/step - loss: 1.0842 - acc: 0.6674 - val_loss: 1.5760 - val_acc: 0.7195\n",
      "Epoch 7/20\n",
      "1063/1063 [==============================] - 2015s 2s/step - loss: 1.0721 - acc: 0.6866 - val_loss: 1.2604 - val_acc: 0.7201\n",
      "Epoch 8/20\n",
      "1063/1063 [==============================] - 2002s 2s/step - loss: 1.0788 - acc: 0.6996 - val_loss: 1.3991 - val_acc: 0.7278\n",
      "Epoch 9/20\n",
      "1063/1063 [==============================] - 2012s 2s/step - loss: 1.0668 - acc: 0.6987 - val_loss: 1.1174 - val_acc: 0.7240\n",
      "Epoch 10/20\n",
      "1063/1063 [==============================] - 2027s 2s/step - loss: 1.0687 - acc: 0.7026 - val_loss: 1.1169 - val_acc: 0.6388\n",
      "Epoch 11/20\n",
      "1063/1063 [==============================] - 2020s 2s/step - loss: 1.0437 - acc: 0.7063 - val_loss: 1.0128 - val_acc: 0.6941\n",
      "Epoch 12/20\n",
      "1063/1063 [==============================] - 2018s 2s/step - loss: 1.0458 - acc: 0.6946 - val_loss: 1.1285 - val_acc: 0.7278\n",
      "Epoch 13/20\n",
      "1063/1063 [==============================] - 2007s 2s/step - loss: 1.0413 - acc: 0.7022 - val_loss: 1.5883 - val_acc: 0.7264\n",
      "Epoch 14/20\n",
      "1063/1063 [==============================] - 2001s 2s/step - loss: 1.0226 - acc: 0.6838 - val_loss: 1.5730 - val_acc: 0.7230\n",
      "Epoch 15/20\n",
      "1063/1063 [==============================] - 2024s 2s/step - loss: 1.0323 - acc: 0.7091 - val_loss: 1.0826 - val_acc: 0.6560\n",
      "Epoch 16/20\n",
      "1063/1063 [==============================] - 2024s 2s/step - loss: 1.0304 - acc: 0.6989 - val_loss: 1.1102 - val_acc: 0.6872\n",
      "Epoch 17/20\n",
      "1063/1063 [==============================] - 2027s 2s/step - loss: 1.0117 - acc: 0.7009 - val_loss: 1.4660 - val_acc: 0.7037\n",
      "Epoch 18/20\n",
      "1063/1063 [==============================] - 2000s 2s/step - loss: 1.0276 - acc: 0.7018 - val_loss: 1.3921 - val_acc: 0.7259\n",
      "Epoch 19/20\n",
      "1063/1063 [==============================] - 2013s 2s/step - loss: 1.0074 - acc: 0.7207 - val_loss: 1.2922 - val_acc: 0.7312\n",
      "Epoch 20/20\n",
      "1063/1063 [==============================] - 2035s 2s/step - loss: 0.9978 - acc: 0.7143 - val_loss: 1.2694 - val_acc: 0.7259\n",
      "CPU times: user 13h 33min 20s, sys: 1h 47min 42s, total: 15h 21min 2s\n",
      "Wall time: 11h 14min 33s\n"
     ]
    }
   ],
   "source": [
    "%%time\n",
    "\n",
    "num_epochs = 20\n",
    "\n",
    "#metrics = Metrics()\n",
    "#history = LossHistory()\n",
    "\n",
    "history = model.fit_generator(train_generator,\n",
    "                    validation_data = dev_generator,\n",
    "                    steps_per_epoch = num_train_steps,\n",
    "                    epochs = num_epochs,\n",
    "                    validation_steps = num_dev_steps,\n",
    "                    verbose = 1)"
   ]
  },
  {
   "cell_type": "code",
   "execution_count": null,
   "metadata": {},
   "outputs": [
    {
     "data": {
      "image/png": "[encoded data removed]",
      "text/plain": [
       "<Figure size 432x288 with 1 Axes>"
      ]
     },
     "metadata": {
      "needs_background": "light"
     },
     "output_type": "display_data"
    }
   ],
   "source": [
    "# Retrieve a list of list results on training and test data sets for each training epoch\n",
    "acc = history.history['acc']\n",
    "dev_acc = history.history['val_acc']\n",
    "loss = history.history['loss']\n",
    "dev_loss = history.history['val_loss']\n",
    "\n",
    "epochs = range(len(acc)) # Get number of epochs\n",
    "\n",
    "# Plot training and validation accuracy per epoch\n",
    "plt.figure()\n",
    "plt.plot(epochs, acc)\n",
    "plt.plot(epochs, dev_acc)\n",
    "plt.title('Training and dev accuracy')\n",
    "plt.savefig('acc_kappa.png')"
   ]
  },
  {
   "cell_type": "code",
   "execution_count": null,
   "metadata": {},
   "outputs": [
    {
     "data": {
      "image/png": "[encoded data removed]",
      "text/plain": [
       "<Figure size 432x288 with 1 Axes>"
      ]
     },
     "metadata": {
      "needs_background": "light"
     },
     "output_type": "display_data"
    }
   ],
   "source": [
    "# Plot training and validation loss per epoch\n",
    "plt.figure()\n",
    "plt.plot(epochs, loss)\n",
    "plt.plot(epochs, dev_loss)\n",
    "plt.title('Training and dev loss')\n",
    "plt.savefig('loss_kappa.png')"
   ]
  },
  {
   "cell_type": "code",
   "execution_count": null,
   "metadata": {},
   "outputs": [],
   "source": [
    "model.save('model_0.h5') \n",
    "#model.save_weights('model_0_weights.h5')"
   ]
  },
  {
   "cell_type": "code",
   "execution_count": 3,
   "metadata": {},
   "outputs": [
    {
     "name": "stderr",
     "output_type": "stream",
     "text": [
      "WARNING: Logging before flag parsing goes to stderr.\n",
      "W0827 22:36:27.778255 139808980612864 deprecation.py:506] From /usr/local/lib/python3.5/dist-packages/tensorflow/python/ops/init_ops.py:97: calling GlorotUniform.__init__ (from tensorflow.python.ops.init_ops) with dtype is deprecated and will be removed in a future version.\n",
      "Instructions for updating:\n",
      "Call initializer instance with the dtype argument instead of passing it to the constructor\n",
      "W0827 22:36:27.780149 139808980612864 deprecation.py:506] From /usr/local/lib/python3.5/dist-packages/tensorflow/python/ops/init_ops.py:1251: calling VarianceScaling.__init__ (from tensorflow.python.ops.init_ops) with dtype is deprecated and will be removed in a future version.\n",
      "Instructions for updating:\n",
      "Call initializer instance with the dtype argument instead of passing it to the constructor\n",
      "W0827 22:36:27.781179 139808980612864 deprecation.py:506] From /usr/local/lib/python3.5/dist-packages/tensorflow/python/ops/init_ops.py:97: calling Zeros.__init__ (from tensorflow.python.ops.init_ops) with dtype is deprecated and will be removed in a future version.\n",
      "Instructions for updating:\n",
      "Call initializer instance with the dtype argument instead of passing it to the constructor\n",
      "W0827 22:36:27.787978 139808980612864 deprecation.py:506] From /usr/local/lib/python3.5/dist-packages/tensorflow/python/ops/init_ops.py:97: calling Ones.__init__ (from tensorflow.python.ops.init_ops) with dtype is deprecated and will be removed in a future version.\n",
      "Instructions for updating:\n",
      "Call initializer instance with the dtype argument instead of passing it to the constructor\n"
     ]
    }
   ],
   "source": [
    "model = tf.keras.models.load_model('model_0.h5')"
   ]
  },
  {
   "cell_type": "code",
   "execution_count": 44,
   "metadata": {},
   "outputs": [
    {
     "name": "stdout",
     "output_type": "stream",
     "text": [
      "Found 1000 images belonging to 5 classes.\n"
     ]
    }
   ],
   "source": [
    "# apply to validation set\n",
    "val_datagen = ImageDataGenerator(rescale=1/255.)\n",
    "\n",
    "batch_size=1\n",
    "val_generator = val_datagen.flow_from_directory(directory=\"/home/jupyter/val_process\",\n",
    "                                                    batch_size=batch_size,\n",
    "                                                    class_mode=\"categorical\",\n",
    "                                                    target_size=(im_size, im_size),\n",
    "                                                    shuffle=False,\n",
    "                                                    seed=seed\n",
    "                                                    )\n",
    "\n",
    "num_val_steps = val_generator.n // val_generator.batch_size"
   ]
  },
  {
   "cell_type": "code",
   "execution_count": 45,
   "metadata": {},
   "outputs": [
    {
     "data": {
      "text/plain": [
       "[0.6329405041679886, 0.779]"
      ]
     },
     "execution_count": 45,
     "metadata": {},
     "output_type": "execute_result"
    }
   ],
   "source": [
    "model.evaluate_generator(generator=val_generator, steps=num_val_steps)"
   ]
  },
  {
   "cell_type": "code",
   "execution_count": 46,
   "metadata": {},
   "outputs": [],
   "source": [
    "probs = model.predict_generator(generator=val_generator) "
   ]
  },
  {
   "cell_type": "code",
   "execution_count": 47,
   "metadata": {},
   "outputs": [],
   "source": [
    "preds = probs.argmax(axis=-1)\n",
    "labels = val_generator.classes"
   ]
  },
  {
   "cell_type": "code",
   "execution_count": 52,
   "metadata": {},
   "outputs": [
    {
     "name": "stdout",
     "output_type": "stream",
     "text": [
      "[[482   8   3   0   0]\n",
      " [ 11   5  85   0   0]\n",
      " [  5   1 247  10  10]\n",
      " [  1   0  36   7   9]\n",
      " [  1   0  37   4  38]]\n"
     ]
    }
   ],
   "source": [
    "print(confusion_matrix(labels, preds))"
   ]
  },
  {
   "cell_type": "code",
   "execution_count": 53,
   "metadata": {},
   "outputs": [
    {
     "data": {
      "text/plain": [
       "0.8710799153225146"
      ]
     },
     "execution_count": 53,
     "metadata": {},
     "output_type": "execute_result"
    }
   ],
   "source": [
    "cohen_kappa_score(labels, preds, weights='quadratic')"
   ]
  },
  {
   "cell_type": "code",
   "execution_count": null,
   "metadata": {},
   "outputs": [],
   "source": [
    "# then on test set with TTA - but do this in a different kernel because need to export to kaggle\n",
    "# try doing TTA on val set first, see if improves score\n",
    "# final kernel will have a bunch of saved models for inference with TTA on each one\n",
    "# then ensembling"
   ]
  }
 ],
 "metadata": {
  "kernelspec": {
   "display_name": "Python 3",
   "language": "python",
   "name": "python3"
  },
  "language_info": {
   "codemirror_mode": {
    "name": "ipython",
    "version": 3
   },
   "file_extension": ".py",
   "mimetype": "text/x-python",
   "name": "python",
   "nbconvert_exporter": "python",
   "pygments_lexer": "ipython3",
   "version": "3.5.3"
  }
 },
 "nbformat": 4,
 "nbformat_minor": 2
}
